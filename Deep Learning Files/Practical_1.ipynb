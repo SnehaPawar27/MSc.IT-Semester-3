{
  "nbformat": 4,
  "nbformat_minor": 0,
  "metadata": {
    "colab": {
      "name": "Practical 1.ipynb",
      "provenance": []
    },
    "kernelspec": {
      "name": "python3",
      "display_name": "Python 3"
    },
    "language_info": {
      "name": "python"
    }
  },
  "cells": [
    {
      "cell_type": "code",
      "metadata": {
        "colab": {
          "base_uri": "https://localhost:8080/"
        },
        "id": "yIA_VBAWdBAn",
        "outputId": "d8b1c090-122d-49cf-e824-c6ee685f4323"
      },
      "source": [
        "#Practical 1\n",
        "#Aim: Performing matrix multiplication and finding eigen vectors and eigen values using TensorFlow. \n",
        " \n",
        "import tensorflow as tf \n",
        "print(\"Matrix Multiplication Demo\") \n",
        "x=tf.constant([1,2,3,4,5,6],shape=[2,3]) \n",
        "print(x) \n",
        "y=tf.constant([7,8,9,10,11,12],shape=[3,2]) \n",
        "print(y) \n",
        "z=tf.matmul(x,y) \n",
        "print(\"Product:\",z) \n",
        " \n",
        "e_matrix_A=tf.random.uniform([2,2],minval=3,maxval=10,dtype=tf.float32,name=\"matrixA\") \n",
        "e=\"matrixA\"\n",
        " \n",
        "print(\"Matrix A:\\n{}\\n\\n\".format(e_matrix_A)) \n",
        " \n",
        "eigen_values_A,eigen_vectors_A=tf.linalg.eigh(e_matrix_A) \n",
        " \n",
        "print(\"Eigen Vectors:\\n{}\\n\\nEigen values:\\n{}\\n\".format(eigen_vectors_A, eigen_values_A))\n"
      ],
      "execution_count": null,
      "outputs": [
        {
          "output_type": "stream",
          "name": "stdout",
          "text": [
            "Matrix Multiplication Demo\n",
            "tf.Tensor(\n",
            "[[1 2 3]\n",
            " [4 5 6]], shape=(2, 3), dtype=int32)\n",
            "tf.Tensor(\n",
            "[[ 7  8]\n",
            " [ 9 10]\n",
            " [11 12]], shape=(3, 2), dtype=int32)\n",
            "Product: tf.Tensor(\n",
            "[[ 58  64]\n",
            " [139 154]], shape=(2, 2), dtype=int32)\n",
            "Matrix A:\n",
            "[[8.621217  5.0865545]\n",
            " [3.6364348 6.520332 ]]\n",
            "\n",
            "\n",
            "Eigen Vectors:\n",
            "[[-0.60103273  0.79922444]\n",
            " [ 0.79922444  0.60103273]]\n",
            "\n",
            "Eigen values:\n",
            "[ 3.7856605 11.355889 ]\n",
            "\n"
          ]
        }
      ]
    }
  ]
}